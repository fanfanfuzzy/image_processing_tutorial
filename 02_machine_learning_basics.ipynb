{
 "cells": [
  {
   "cell_type": "code",
   "execution_count": null,
   "id": "9899e74e",
   "metadata": {},
   "outputs": [],
   "source": [
    "# Google Colab Setup / Google Colab セットアップ\n",
    "try:\n",
    "    import google.colab\n",
    "    IN_COLAB = True\n",
    "except ImportError:\n",
    "    IN_COLAB = False\n",
    "\n",
    "if IN_COLAB:\n",
    "    from google.colab import drive\n",
    "    drive.mount('/content/drive')\n",
    "    \n",
    "    import sys\n",
    "    from pathlib import Path\n",
    "    \n",
    "    proj_root = Path(\"/content/drive/MyDrive/image_processing_tutorial-main\")\n",
    "    if str(proj_root) not in sys.path:\n",
    "        sys.path.insert(0, str(proj_root))\n",
    "    \n",
    "    print(\"Google Colab environment detected and configured!\")\n",
    "    print(\"Google Colab環境が検出され、設定されました！\")\n",
    "else:\n",
    "    print(\"Local Jupyter environment detected\")\n",
    "    print(\"ローカルJupyter環境が検出されました\")"
   ]
  },
  {
   "cell_type": "markdown",
   "id": "f0942f3e",
   "metadata": {},
   "source": [
    "# Machine Learning Basics: Linear Regression and Model Selection\n",
    "\n",
    "This notebook demonstrates fundamental machine learning concepts using linear regression with f=ma relationship data. We will explore model selection using cross-validation.\n",
    "\n",
    "このノートブックでは、f=ma関係のデータを使用した線形回帰により、機械学習の基本概念を実演します。交差検証を使用したモデル選択を探求します。\n",
    "\n",
    "- Generate artificial data based on physical relationships / 物理的関係に基づく人工データの生成\n",
    "- Implement linear regression with and without intercept / 切片ありなしの線形回帰の実装\n",
    "- Understand cross-validation for model evaluation / モデル評価のための交差検証の理解\n",
    "- Compare model performance using statistical metrics / 統計的指標を使用したモデル性能の比較"
   ]
  },
  {
   "cell_type": "code",
   "execution_count": null,
   "id": "b7d7101d",
   "metadata": {},
   "outputs": [],
   "source": [
    "# Import required libraries / 必要なライブラリをインポート\n",
    "import numpy as np\n",
    "from matplotlib import pyplot as plt\n",
    "from sklearn import linear_model  # sklearn.linear_model.LinearRegression\n",
    "from sklearn.model_selection import LeaveOneOut  # cross validation\n",
    "from sklearn.metrics import mean_squared_error  # RMSE\n",
    "\n",
    "np.random.seed(42)"
   ]
  },
  {
   "cell_type": "markdown",
   "id": "b0115711",
   "metadata": {},
   "source": [
    "## 1. Artificial Data Generation / 人工データ生成\n",
    "\n",
    "We will generate artificial data following a linear relationship similar to Newton's second law (F = ma).\n",
    "ニュートンの第二法則（F = ma）に類似した線形関係に従って人工データを生成します。"
   ]
  },
  {
   "cell_type": "code",
   "execution_count": null,
   "id": "4cbc7380",
   "metadata": {},
   "outputs": [],
   "source": [
    "# Artificial data generation\n",
    "\n",
    "N = 21  # # of samples\n",
    "a = 1\n",
    "X = np.linspace(-10, 10, N)  # -10, 10 to N equally divided data.\n",
    "\n",
    "noise_cov = 3\n",
    "noise = np.random.normal(0, noise_cov, [N])\n",
    "y = a * X + noise\n",
    "\n",
    "print(f\"Generated {N} data points with linear relationship y = {a} * X + noise\")\n",
    "print(f\"線形関係 y = {a} * X + ノイズ で {N} 個のデータポイントを生成\")"
   ]
  },
  {
   "cell_type": "markdown",
   "id": "4ba3f247",
   "metadata": {},
   "source": [
    "### Q1: Plot the artificial data / 問１：人工データのプロットしてください\n",
    "\n",
    "Plot the generated data points to visualize the linear relationship with noise.\n",
    "ノイズを含む線形関係を可視化するために生成されたデータポイントをプロットしてください。"
   ]
  },
  {
   "cell_type": "code",
   "execution_count": null,
   "id": "99c525d2",
   "metadata": {},
   "outputs": [],
   "source": [
    "# Q1: Plot the artificial data.\n",
    "plt.plot(X, y, 'r.')\n",
    "plt.axis('equal')\n",
    "plt.title('DATA')\n",
    "plt.xlabel('X')\n",
    "plt.ylabel('y')\n",
    "plt.show()"
   ]
  },
  {
   "cell_type": "markdown",
   "id": "8c576803",
   "metadata": {},
   "source": [
    "## 2. Linear Regression Model Setup / 線形回帰モデルの設定\n",
    "\n",
    "We will create two different linear models:\n",
    "1. Model with intercept: y = ax + b\n",
    "2. Model without intercept: y = ax\n",
    "\n",
    "2つの異なる線形モデルを作成します：\n",
    "1. 切片ありモデル：y = ax + b  \n",
    "2. 切片なしモデル：y = ax"
   ]
  },
  {
   "cell_type": "markdown",
   "id": "667107d2",
   "metadata": {},
   "source": [
    "### Q2: Generate linear models with and without intercept / 問2: １次式のモデルのうち，切片があるモデルとないモデルをそれぞれ生成してください\n",
    "\n",
    "Create two LinearRegression models using scikit-learn with different intercept settings.\n",
    "異なる切片設定でscikit-learnを使用して2つのLinearRegressionモデルを作成してください。"
   ]
  },
  {
   "cell_type": "code",
   "execution_count": null,
   "id": "bda09a7e",
   "metadata": {},
   "outputs": [],
   "source": [
    "# Q2: Generate a linear model with and without intercept, respectively.\n",
    "reg_ax_b = linear_model.LinearRegression(fit_intercept=True)  ## (option to generate a model with an intercept)\n",
    "reg_ax = linear_model.LinearRegression(fit_intercept=False)   ## (option to generate a model with no intercept)\n",
    "\n",
    "print(\"Created two models:\")\n",
    "print(\"2つのモデルを作成:\")\n",
    "print(\"- reg_ax_b: Linear regression with intercept (切片あり)\")\n",
    "print(\"- reg_ax: Linear regression without intercept (切片なし)\")"
   ]
  },
  {
   "cell_type": "markdown",
   "id": "4a8dc552",
   "metadata": {},
   "source": [
    "## 3. Cross-Validation Setup / 交差検証の設定\n",
    "\n",
    "We will use Leave-One-Out cross-validation to evaluate model performance.\n",
    "Leave-One-Out交差検証を使用してモデル性能を評価します。"
   ]
  },
  {
   "cell_type": "code",
   "execution_count": null,
   "id": "44007d4b",
   "metadata": {},
   "outputs": [],
   "source": [
    "# Evaluate performance with K-partition cross validation\n",
    "\n",
    "loo = LeaveOneOut()  # Generating training and test data set for leave one out cross validation\n",
    "MSE_ax = {\"mean\": [], \"std\": []}\n",
    "MSE_ax_b = {\"mean\": [], \"std\": []}\n",
    "\n",
    "scores_ax = []\n",
    "scores_ax_b = []\n",
    "\n",
    "print(\"Leave-One-Out cross-validation setup complete\")\n",
    "print(\"Leave-One-Out交差検証の設定完了\")"
   ]
  },
  {
   "cell_type": "markdown",
   "id": "1ad5644f",
   "metadata": {},
   "source": [
    "### Q3: Print train_index and test_index / 問3: printをもちいて，train_index, test_indexをプリントし、テストデータとトレーニングデータを確認してください\n",
    "\n",
    "Examine the cross-validation splits to understand how Leave-One-Out works.\n",
    "Leave-One-Outの動作を理解するために交差検証の分割を調べてください。"
   ]
  },
  {
   "cell_type": "code",
   "execution_count": null,
   "id": "14527d27",
   "metadata": {},
   "outputs": [],
   "source": [
    "# Q3: Print train_index and test_index using print and check the test and training data.\n",
    "\n",
    "for train_index, test_index in loo.split(X):\n",
    "    print(\"%s %s\" % (train_index, test_index))"
   ]
  },
  {
   "cell_type": "markdown",
   "id": "896c1928",
   "metadata": {},
   "source": [
    "### Q4 & Q5: Model Training and Prediction / 問４・５：モデル学習と予測\n",
    "\n",
    "**Q4**: Train linear regression models using training data / 線形回帰のモデルをトレーニングデータを用いて学習してください\n",
    "\n",
    "**Q5**: Make predictions on test data using trained models / 学習済みモデルを用いてテストデータについて予測してください"
   ]
  },
  {
   "cell_type": "code",
   "execution_count": null,
   "id": "4c56fe1e",
   "metadata": {},
   "outputs": [],
   "source": [
    "# main part: leave one out cross validation\n",
    "for train_index, test_index in loo.split(X):\n",
    "    X_train = X[train_index]\n",
    "    X_test = X[test_index]\n",
    "    y_train, y_test = y[train_index], y[test_index]\n",
    "    \n",
    "    reg_ax_b.fit(X_train[:, np.newaxis], y_train[:, np.newaxis])\n",
    "    reg_ax.fit(X_train[:, np.newaxis], y_train[:, np.newaxis])\n",
    "    \n",
    "    pred_ax_b = reg_ax_b.predict(X_test[:, np.newaxis])\n",
    "    pred_ax = reg_ax.predict(X_test[:, np.newaxis])\n",
    "    \n",
    "    scores_ax_b.append(mean_squared_error(y_test, pred_ax_b))\n",
    "    scores_ax.append(mean_squared_error(y_test, pred_ax))\n",
    "\n",
    "MSE_ax_b[\"mean\"].append(np.mean(scores_ax_b))  # convert to positive\n",
    "MSE_ax[\"mean\"].append(np.mean(scores_ax))\n",
    "\n",
    "print('Cross-validation error when y= ax+b as model: %.4f' % MSE_ax_b[\"mean\"][0])\n",
    "print('Cross-validation error when y= ax as model: %.4f' % MSE_ax[\"mean\"][0])\n",
    "print('y= ax+bをモデルとしたときの交差検証誤差： %.4f' % MSE_ax_b[\"mean\"][0])\n",
    "print('y= axをモデルとしたときの交差検証誤差： %.4f' % MSE_ax[\"mean\"][0])"
   ]
  },
  {
   "cell_type": "markdown",
   "id": "4130c5d2",
   "metadata": {},
   "source": [
    "## 4. Results Analysis / 結果分析\n",
    "\n",
    "Compare the cross-validation errors between the two models to determine which performs better.\n",
    "2つのモデル間の交差検証誤差を比較して、どちらが優れた性能を示すかを判定します。\n",
    "\n",
    "- **Model 1 (y = ax)**: Linear regression without intercept / 切片なし線形回帰\n",
    "- **Model 2 (y = ax + b)**: Linear regression with intercept / 切片あり線形回帰\n",
    "\n",
    "The model with lower cross-validation error is considered better for this dataset.\n",
    "交差検証誤差が低いモデルがこのデータセットに対してより良いと考えられます。"
   ]
  },
  {
   "cell_type": "markdown",
   "id": "251c7a71",
   "metadata": {},
   "source": [
    "## 5. Conclusion / 結論\n",
    "\n",
    "Based on the cross-validation results, we can make an informed decision about model selection:\n",
    "\n",
    "交差検証結果に基づいて、モデル選択について情報に基づいた決定を行うことができます：\n",
    "\n",
    "1. **Data Generation**: Created artificial data with known linear relationship / データ生成：既知の線形関係を持つ人工データを作成\n",
    "2. **Model Comparison**: Compared models with and without intercept / モデル比較：切片ありなしのモデルを比較\n",
    "3. **Cross-Validation**: Used Leave-One-Out CV for robust evaluation / 交差検証：堅牢な評価のためにLeave-One-Out CVを使用\n",
    "4. **Model Selection**: Selected best model based on CV error / モデル選択：CV誤差に基づいて最適モデルを選択\n",
    "\n",
    "This demonstrates the fundamental machine learning workflow of data generation, model training, evaluation, and selection.\n",
    "これは、データ生成、モデル学習、評価、選択という機械学習の基本的なワークフローを実演しています。"
   ]
  }
 ],
 "metadata": {},
 "nbformat": 4,
 "nbformat_minor": 5
}
